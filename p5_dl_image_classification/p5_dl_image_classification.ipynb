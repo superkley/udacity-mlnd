{
 "cells": [
  {
   "cell_type": "markdown",
   "metadata": {},
   "source": [
    "# Deep Learning: Image Classification\n",
    "\n",
    "> Udacity Machine Learning Engineer Nanodegree: _Project 5_\n",
    ">\n",
    "> Author: _Ke Zhang_\n",
    ">\n",
    "> Submission Date: _2017-05-02_ (Revision 1)"
   ]
  },
  {
   "cell_type": "markdown",
   "metadata": {
    "collapsed": true
   },
   "source": [
    "## Abstract\n",
    "In this project, you'll classify images from the [CIFAR-10 dataset](https://www.cs.toronto.edu/~kriz/cifar.html).  The dataset consists of airplanes, dogs, cats, and other objects. You'll preprocess the images, then train a convolutional neural network on all the samples. The images need to be normalized and the labels need to be one-hot encoded.  You'll get to apply what you learned and build a convolutional, max pooling, dropout, and fully connected layers.  At the end, you'll get to see your neural network's predictions on the sample images."
   ]
  },
  {
   "cell_type": "markdown",
   "metadata": {},
   "source": [
    "## Content\n",
    "\n",
    "- [Get the Data](#Get-the-Data)\n",
    "- [Explore the Data](#Explore-the-Data)\n",
    "- [Implement Preprocess Functions](#Implement-Preprocess-Functions)\n",
    "- [Check Point 1](#Check-Point-1)\n",
    "- [Build the network](#Build-the-network)\n",
    "- [Create Convolutional Model](#Create-Convolutional-Model)\n",
    "- [Train the Neural Network](#Train-the-Neural-Network)\n",
    "- [Checkpoint 2](#Checkpoint-2)\n",
    "- [Test Model](#Test-Model)\n",
    "- [References](#References)\n",
    "- [Reproduction Environment](#Reproduction-Environment)"
   ]
  },
  {
   "cell_type": "markdown",
   "metadata": {},
   "source": [
    "## Get the Data\n",
    "Run the following cell to download the [CIFAR-10 dataset for python](https://www.cs.toronto.edu/~kriz/cifar-10-python.tar.gz)."
   ]
  },
  {
   "cell_type": "code",
   "execution_count": 2,
   "metadata": {},
   "outputs": [
    {
     "name": "stderr",
     "output_type": "stream",
     "text": [
      "CIFAR-10 Dataset: 171MB [03:05, 919KB/s]                                                                                                                       \n"
     ]
    },
    {
     "name": "stdout",
     "output_type": "stream",
     "text": [
      "All files found!\n"
     ]
    }
   ],
   "source": [
    "\"\"\"\n",
    "DON'T MODIFY ANYTHING IN THIS CELL THAT IS BELOW THIS LINE\n",
    "\"\"\"\n",
    "from urllib.request import urlretrieve\n",
    "from os.path import isfile, isdir\n",
    "from tqdm import tqdm\n",
    "import problem_unittests as tests\n",
    "import tarfile\n",
    "\n",
    "cifar10_dataset_folder_path = 'cifar-10-batches-py'\n",
    "\n",
    "class DLProgress(tqdm):\n",
    "    last_block = 0\n",
    "\n",
    "    def hook(self, block_num=1, block_size=1, total_size=None):\n",
    "        self.total = total_size\n",
    "        self.update((block_num - self.last_block) * block_size)\n",
    "        self.last_block = block_num\n",
    "\n",
    "if not isfile('cifar-10-python.tar.gz'):\n",
    "    with DLProgress(unit='B', unit_scale=True, miniters=1, desc='CIFAR-10 Dataset') as pbar:\n",
    "        urlretrieve(\n",
    "            'https://www.cs.toronto.edu/~kriz/cifar-10-python.tar.gz',\n",
    "            'cifar-10-python.tar.gz',\n",
    "            pbar.hook)\n",
    "\n",
    "if not isdir(cifar10_dataset_folder_path):\n",
    "    with tarfile.open('cifar-10-python.tar.gz') as tar:\n",
    "        tar.extractall()\n",
    "        tar.close()\n",
    "\n",
    "\n",
    "tests.test_folder_path(cifar10_dataset_folder_path)"
   ]
  },
  {
   "cell_type": "markdown",
   "metadata": {},
   "source": [
    "## Explore the Data\n",
    "The dataset is broken into batches to prevent your machine from running out of memory.  The CIFAR-10 dataset consists of 5 batches, named `data_batch_1`, `data_batch_2`, etc.. Each batch contains the labels and images that are one of the following:\n",
    "* airplane\n",
    "* automobile\n",
    "* bird\n",
    "* cat\n",
    "* deer\n",
    "* dog\n",
    "* frog\n",
    "* horse\n",
    "* ship\n",
    "* truck\n",
    "\n",
    "Understanding a dataset is part of making predictions on the data.  Play around with the code cell below by changing the `batch_id` and `sample_id`. The `batch_id` is the id for a batch (1-5). The `sample_id` is the id for a image and label pair in the batch.\n",
    "\n",
    "Ask yourself \"What are all possible labels?\", \"What is the range of values for the image data?\", \"Are the labels in order or random?\".  Answers to questions like these will help you preprocess the data and end up with better predictions."
   ]
  },
  {
   "cell_type": "code",
   "execution_count": 3,
   "metadata": {},
   "outputs": [
    {
     "name": "stdout",
     "output_type": "stream",
     "text": [
      "\n",
      "Stats of batch 1:\n",
      "Samples: 10000\n",
      "Label Counts: {0: 1005, 1: 974, 2: 1032, 3: 1016, 4: 999, 5: 937, 6: 1030, 7: 1001, 8: 1025, 9: 981}\n",
      "First 20 Labels: [6, 9, 9, 4, 1, 1, 2, 7, 8, 3, 4, 7, 7, 2, 9, 9, 9, 3, 2, 6]\n",
      "\n",
      "Example of Image 5:\n",
      "Image - Min Value: 0 Max Value: 252\n",
      "Image - Shape: (32, 32, 3)\n",
      "Label - Label Id: 1 Name: automobile\n"
     ]
    },
    {
     "data": {
      "image/png": "[encoded data removed]",
      "text/plain": [
       "<matplotlib.figure.Figure at 0xc17f0b8>"
      ]
     },
     "metadata": {
      "image/png": {
       "height": 250,
       "width": 253
      }
     },
     "output_type": "display_data"
    }
   ],
   "source": [
    "%matplotlib inline\n",
    "%config InlineBackend.figure_format = 'retina'\n",
    "\n",
    "import helper\n",
    "import numpy as np\n",
    "\n",
    "# Explore the dataset\n",
    "batch_id = 1\n",
    "sample_id = 5\n",
    "helper.display_stats(cifar10_dataset_folder_path, batch_id, sample_id)"
   ]
  },
  {
   "cell_type": "code",
   "execution_count": 6,
   "metadata": {},
   "outputs": [
    {
     "name": "stdout",
     "output_type": "stream",
     "text": [
      "\n",
      "Stats of batch 1:\n",
      "Samples: 10000\n",
      "Label Counts: {0: 1005, 1: 974, 2: 1032, 3: 1016, 4: 999, 5: 937, 6: 1030, 7: 1001, 8: 1025, 9: 981}\n",
      "First 20 Labels: [6, 9, 9, 4, 1, 1, 2, 7, 8, 3, 4, 7, 7, 2, 9, 9, 9, 3, 2, 6]\n",
      "\n",
      "Example of Image 7:\n",
      "Image - Min Value: 9 Max Value: 248\n",
      "Image - Shape: (32, 32, 3)\n",
      "Label - Label Id: 7 Name: horse\n"
     ]
    },
    {
     "data": {
      "image/png": "[encoded data removed]",
      "text/plain": [
       "<matplotlib.figure.Figure at 0x484b9b0>"
      ]
     },
     "metadata": {
      "image/png": {
       "height": 250,
       "width": 253
      }
     },
     "output_type": "display_data"
    }
   ],
   "source": [
    "# Explore the dataset\n",
    "batch_id = 1\n",
    "sample_id = 7\n",
    "helper.display_stats(cifar10_dataset_folder_path, batch_id, sample_id)"
   ]
  },
  {
   "cell_type": "markdown",
   "metadata": {},
   "source": [
    "## Implement Preprocess Functions\n",
    "### Normalize\n",
    "In the cell below, implement the `normalize` function to take in image data, `x`, and return it as a normalized Numpy array. The values should be in the range of 0 to 1, inclusive.  The return object should be the same shape as `x`."
   ]
  },
  {
   "cell_type": "code",
   "execution_count": 12,
   "metadata": {},
   "outputs": [
    {
     "name": "stdout",
     "output_type": "stream",
     "text": [
      "Tests Passed\n"
     ]
    }
   ],
   "source": [
    "def normalize(x):\n",
    "    \"\"\"\n",
    "    Normalize a list of sample image data in the range of 0 to 1\n",
    "    : x: List of image data.  The image shape is (32, 32, 3)\n",
    "    : return: Numpy array of normalize data\n",
    "    \"\"\"\n",
    "    # type(x): already numpy.ndarray, max_val=255\n",
    "    return x / 255\n",
    "\n",
    "\n",
    "\"\"\"\n",
    "DON'T MODIFY ANYTHING IN THIS CELL THAT IS BELOW THIS LINE\n",
    "\"\"\"\n",
    "tests.test_normalize(normalize)"
   ]
  },
  {
   "cell_type": "markdown",
   "metadata": {},
   "source": [
    "### One-hot encode\n",
    "Just like the previous code cell, you'll be implementing a function for preprocessing.  This time, you'll implement the `one_hot_encode` function. The input, `x`, are a list of labels.  Implement the function to return the list of labels as One-Hot encoded Numpy array.  The possible values for labels are 0 to 9. The one-hot encoding function should return the same encoding for each value between each call to `one_hot_encode`.  Make sure to save the map of encodings outside the function.\n",
    "\n",
    "**Hint:**\n",
    "\n",
    "Look into LabelBinarizer in the preprocessing module of sklearn."
   ]
  },
  {
   "cell_type": "code",
   "execution_count": 27,
   "metadata": {},
   "outputs": [
    {
     "name": "stdout",
     "output_type": "stream",
     "text": [
      "Tests Passed\n"
     ]
    }
   ],
   "source": [
    "def one_hot_encode(x):\n",
    "    \"\"\"\n",
    "    One hot encode a list of sample labels. Return a one-hot encoded vector for each label.\n",
    "    : x: List of sample Labels\n",
    "    : return: Numpy array of one-hot encoded labels\n",
    "    \"\"\"    \n",
    "    # init matrix and utilize the fact that x are numbers\n",
    "    enc = np.zeros((len(x), 10))\n",
    "    enc[np.arange(len(x)), x] = 1\n",
    "    return enc\n",
    "    \n",
    "\"\"\"\n",
    "DON'T MODIFY ANYTHING IN THIS CELL THAT IS BELOW THIS LINE\n",
    "\"\"\"\n",
    "tests.test_one_hot_encode(one_hot_encode)"
   ]
  },
  {
   "cell_type": "markdown",
   "metadata": {},
   "source": [
    "### Randomize Data\n",
    "As you saw from exploring the data above, the order of the samples are randomized.  It doesn't hurt to randomize it again, but you don't need to for this dataset."
   ]
  },
  {
   "cell_type": "markdown",
   "metadata": {},
   "source": [
    "## Preprocess all the data and save it\n",
    "Running the code cell below will preprocess all the CIFAR-10 data and save it to file. The code below also uses 10% of the training data for validation."
   ]
  },
  {
   "cell_type": "code",
   "execution_count": 28,
   "metadata": {
    "collapsed": true
   },
   "outputs": [],
   "source": [
    "\"\"\"\n",
    "DON'T MODIFY ANYTHING IN THIS CELL\n",
    "\"\"\"\n",
    "# Preprocess Training, Validation, and Testing Data\n",
    "helper.preprocess_and_save_data(cifar10_dataset_folder_path, normalize, one_hot_encode)"
   ]
  },
  {
   "cell_type": "markdown",
   "metadata": {},
   "source": [
    "# Check Point 1\n",
    "This is your first checkpoint.  If you ever decide to come back to this notebook or have to restart the notebook, you can start from here.  The preprocessed data has been saved to disk."
   ]
  },
  {
   "cell_type": "code",
   "execution_count": 1,
   "metadata": {
    "collapsed": true
   },
   "outputs": [],
   "source": [
    "\"\"\"\n",
    "DON'T MODIFY ANYTHING IN THIS CELL\n",
    "\"\"\"\n",
    "import pickle\n",
    "import problem_unittests as tests\n",
    "import helper\n",
    "\n",
    "# Load the Preprocessed Validation data\n",
    "valid_features, valid_labels = pickle.load(open('preprocess_validation.p', mode='rb'))"
   ]
  },
  {
   "cell_type": "markdown",
   "metadata": {},
   "source": [
    "## Build the network\n",
    "For the neural network, you'll build each layer into a function.  Most of the code you've seen has been outside of functions. To test your code more thoroughly, we require that you put each layer in a function.  This allows us to give you better feedback and test for simple mistakes using our unittests before you submit your project.\n",
    "\n",
    "### Input\n",
    "The neural network needs to read the image data, one-hot encoded labels, and dropout keep probability. Implement the following functions\n",
    "* Implement `neural_net_image_input`\n",
    " * Return a [TF Placeholder](https://www.tensorflow.org/api_docs/python/tf/placeholder)\n",
    " * Set the shape using `image_shape` with batch size set to `None`.\n",
    " * Name the TensorFlow placeholder \"x\" using the TensorFlow `name` parameter in the [TF Placeholder](https://www.tensorflow.org/api_docs/python/tf/placeholder).\n",
    "* Implement `neural_net_label_input`\n",
    " * Return a [TF Placeholder](https://www.tensorflow.org/api_docs/python/tf/placeholder)\n",
    " * Set the shape using `n_classes` with batch size set to `None`.\n",
    " * Name the TensorFlow placeholder \"y\" using the TensorFlow `name` parameter in the [TF Placeholder](https://www.tensorflow.org/api_docs/python/tf/placeholder).\n",
    "* Implement `neural_net_keep_prob_input`\n",
    " * Return a [TF Placeholder](https://www.tensorflow.org/api_docs/python/tf/placeholder) for dropout keep probability.\n",
    " * Name the TensorFlow placeholder \"keep_prob\" using the TensorFlow `name` parameter in the [TF Placeholder](https://www.tensorflow.org/api_docs/python/tf/placeholder).\n",
    "\n",
    "These names will be used at the end of the project to load your saved model.\n",
    "\n",
    "Note: `None` for shapes in TensorFlow allow for a dynamic size."
   ]
  },
  {
   "cell_type": "code",
   "execution_count": 2,
   "metadata": {
    "scrolled": true
   },
   "outputs": [
    {
     "name": "stdout",
     "output_type": "stream",
     "text": [
      "Image Input Tests Passed.\n",
      "Label Input Tests Passed.\n",
      "Keep Prob Tests Passed.\n"
     ]
    }
   ],
   "source": [
    "import tensorflow as tf\n",
    "\n",
    "def neural_net_image_input(image_shape):\n",
    "    \"\"\"\n",
    "    Return a Tensor for a batch of image input\n",
    "    : image_shape: Shape of the images\n",
    "    : return: Tensor for image input.\n",
    "    \"\"\"\n",
    "    return tf.placeholder(\n",
    "        tf.float32,\n",
    "        shape=[None, *image_shape],\n",
    "        name='x'\n",
    "    )\n",
    "\n",
    "\n",
    "def neural_net_label_input(n_classes):\n",
    "    \"\"\"\n",
    "    Return a Tensor for a batch of label input\n",
    "    : n_classes: Number of classes\n",
    "    : return: Tensor for label input.\n",
    "    \"\"\"\n",
    "    return tf.placeholder(tf.float32, shape=[None, n_classes], name='y')\n",
    "\n",
    "\n",
    "def neural_net_keep_prob_input():\n",
    "    \"\"\"\n",
    "    Return a Tensor for keep probability\n",
    "    : return: Tensor for keep probability.\n",
    "    \"\"\"\n",
    "    return tf.placeholder(tf.float32, name='keep_prob')\n",
    "\n",
    "\n",
    "\"\"\"\n",
    "DON'T MODIFY ANYTHING IN THIS CELL THAT IS BELOW THIS LINE\n",
    "\"\"\"\n",
    "tf.reset_default_graph()\n",
    "tests.test_nn_image_inputs(neural_net_image_input)\n",
    "tests.test_nn_label_inputs(neural_net_label_input)\n",
    "tests.test_nn_keep_prob_inputs(neural_net_keep_prob_input)"
   ]
  },
  {
   "cell_type": "markdown",
   "metadata": {},
   "source": [
    "### Convolution and Max Pooling Layer\n",
    "Convolution layers have a lot of success with images. For this code cell, you should implement the function `conv2d_maxpool` to apply convolution then max pooling:\n",
    "* Create the weight and bias using `conv_ksize`, `conv_num_outputs` and the shape of `x_tensor`.\n",
    "* Apply a convolution to `x_tensor` using weight and `conv_strides`.\n",
    " * We recommend you use same padding, but you're welcome to use any padding.\n",
    "* Add bias\n",
    "* Add a nonlinear activation to the convolution.\n",
    "* Apply Max Pooling using `pool_ksize` and `pool_strides`.\n",
    " * We recommend you use same padding, but you're welcome to use any padding.\n",
    "\n",
    "**Note:** You **can't** use [TensorFlow Layers](https://www.tensorflow.org/api_docs/python/tf/layers) or [TensorFlow Layers (contrib)](https://www.tensorflow.org/api_guides/python/contrib.layers) for **this** layer, but you can still use TensorFlow's [Neural Network](https://www.tensorflow.org/api_docs/python/tf/nn) package. You may still use the shortcut option for all the **other** layers.\n",
    "\n",
    "** Hint: **\n",
    "\n",
    "When unpacking values as an argument in Python, look into the [unpacking](https://docs.python.org/3/tutorial/controlflow.html#unpacking-argument-lists) operator. "
   ]
  },
  {
   "cell_type": "code",
   "execution_count": 6,
   "metadata": {},
   "outputs": [
    {
     "name": "stdout",
     "output_type": "stream",
     "text": [
      "Tests Passed\n"
     ]
    }
   ],
   "source": [
    "def conv2d_maxpool(x_tensor, conv_num_outputs, conv_ksize, conv_strides, pool_ksize, pool_strides):\n",
    "    \"\"\"\n",
    "    Apply convolution then max pooling to x_tensor\n",
    "    :param x_tensor: TensorFlow Tensor\n",
    "    :param conv_num_outputs: Number of outputs for the convolutional layer\n",
    "    :param conv_ksize: kernel size 2-D Tuple for the convolutional layer\n",
    "    :param conv_strides: Stride 2-D Tuple for convolution\n",
    "    :param pool_ksize: kernal size 2-D Tuple for pool\n",
    "    :param pool_strides: Stride 2-D Tuple for pool\n",
    "    : return: A tensor that represents convolution and max pooling of x_tensor\n",
    "    \"\"\"\n",
    "    # gets depth from tensor shape\n",
    "    depth = x_tensor.shape[3].value\n",
    "    # prepares trainalbe variables\n",
    "    weights = tf.Variable(\n",
    "        tf.truncated_normal((*conv_ksize, depth, conv_num_outputs), stddev=.05)\n",
    "    )\n",
    "    bias = tf.Variable(tf.zeros(conv_num_outputs))\n",
    "    # creates 2d convolution layer\n",
    "    conv_layer = tf.nn.conv2d(\n",
    "        x_tensor, \n",
    "        weights, \n",
    "        strides=[1, *conv_strides, 1], \n",
    "        padding='SAME'\n",
    "    )\n",
    "    conv_layer = tf.nn.bias_add(conv_layer, bias)\n",
    "    conv_layer = tf.nn.relu(conv_layer)\n",
    "    # creates max pool layer\n",
    "    return tf.nn.max_pool(\n",
    "        conv_layer, \n",
    "        ksize=[1, *pool_ksize, 1], \n",
    "        strides=[1, *pool_strides, 1], \n",
    "        padding='SAME'\n",
    "    )\n",
    "\n",
    "\n",
    "\"\"\"\n",
    "DON'T MODIFY ANYTHING IN THIS CELL THAT IS BELOW THIS LINE\n",
    "\"\"\"\n",
    "tests.test_con_pool(conv2d_maxpool)"
   ]
  },
  {
   "cell_type": "markdown",
   "metadata": {},
   "source": [
    "### Flatten Layer\n",
    "Implement the `flatten` function to change the dimension of `x_tensor` from a 4-D tensor to a 2-D tensor.  The output should be the shape (*Batch Size*, *Flattened Image Size*). Shortcut option: you can use classes from the [TensorFlow Layers](https://www.tensorflow.org/api_docs/python/tf/layers) or [TensorFlow Layers (contrib)](https://www.tensorflow.org/api_guides/python/contrib.layers) packages for this layer. For more of a challenge, only use other TensorFlow packages."
   ]
  },
  {
   "cell_type": "code",
   "execution_count": 7,
   "metadata": {},
   "outputs": [
    {
     "name": "stdout",
     "output_type": "stream",
     "text": [
      "Tests Passed\n"
     ]
    }
   ],
   "source": [
    "def flatten(x_tensor):\n",
    "    \"\"\"\n",
    "    Flatten x_tensor to (Batch Size, Flattened Image Size)\n",
    "    : x_tensor: A tensor of size (Batch Size, ...), where ... are the image dimensions.\n",
    "    : return: A tensor of size (Batch Size, Flattened Image Size).\n",
    "    \"\"\"\n",
    "    return tf.contrib.layers.flatten(x_tensor)\n",
    "\n",
    "\n",
    "\"\"\"\n",
    "DON'T MODIFY ANYTHING IN THIS CELL THAT IS BELOW THIS LINE\n",
    "\"\"\"\n",
    "tests.test_flatten(flatten)"
   ]
  },
  {
   "cell_type": "markdown",
   "metadata": {},
   "source": [
    "### Fully-Connected Layer\n",
    "Implement the `fully_conn` function to apply a fully connected layer to `x_tensor` with the shape (*Batch Size*, *num_outputs*). Shortcut option: you can use classes from the [TensorFlow Layers](https://www.tensorflow.org/api_docs/python/tf/layers) or [TensorFlow Layers (contrib)](https://www.tensorflow.org/api_guides/python/contrib.layers) packages for this layer. For more of a challenge, only use other TensorFlow packages."
   ]
  },
  {
   "cell_type": "code",
   "execution_count": 8,
   "metadata": {},
   "outputs": [
    {
     "name": "stdout",
     "output_type": "stream",
     "text": [
      "Tests Passed\n"
     ]
    }
   ],
   "source": [
    "def fully_conn(x_tensor, num_outputs):\n",
    "    \"\"\"\n",
    "    Apply a fully connected layer to x_tensor using weight and bias\n",
    "    : x_tensor: A 2-D tensor where the first dimension is batch size.\n",
    "    : num_outputs: The number of output that the new tensor should be.\n",
    "    : return: A 2-D tensor where the second dimension is num_outputs.\n",
    "    \"\"\"\n",
    "    fc_layer = tf.contrib.layers.fully_connected(\n",
    "        x_tensor,\n",
    "        num_outputs=num_outputs\n",
    "    )\n",
    "    return tf.nn.relu(fc_layer)\n",
    "\n",
    "\n",
    "\"\"\"\n",
    "DON'T MODIFY ANYTHING IN THIS CELL THAT IS BELOW THIS LINE\n",
    "\"\"\"\n",
    "tests.test_fully_conn(fully_conn)"
   ]
  },
  {
   "cell_type": "markdown",
   "metadata": {},
   "source": [
    "### Output Layer\n",
    "Implement the `output` function to apply a fully connected layer to `x_tensor` with the shape (*Batch Size*, *num_outputs*). Shortcut option: you can use classes from the [TensorFlow Layers](https://www.tensorflow.org/api_docs/python/tf/layers) or [TensorFlow Layers (contrib)](https://www.tensorflow.org/api_guides/python/contrib.layers) packages for this layer. For more of a challenge, only use other TensorFlow packages.\n",
    "\n",
    "**Note:** Activation, softmax, or cross entropy should **not** be applied to this."
   ]
  },
  {
   "cell_type": "code",
   "execution_count": 9,
   "metadata": {},
   "outputs": [
    {
     "name": "stdout",
     "output_type": "stream",
     "text": [
      "Tests Passed\n"
     ]
    }
   ],
   "source": [
    "def output(x_tensor, num_outputs):\n",
    "    \"\"\"\n",
    "    Apply a output layer to x_tensor using weight and bias\n",
    "    : x_tensor: A 2-D tensor where the first dimension is batch size.\n",
    "    : num_outputs: The number of output that the new tensor should be.\n",
    "    : return: A 2-D tensor where the second dimension is num_outputs.\n",
    "    \"\"\"\n",
    "    # gets the flattened image size\n",
    "    size = int(x_tensor.shape[1])\n",
    "    # prepares the variables\n",
    "    weights = tf.Variable(\n",
    "        tf.truncated_normal(([size, num_outputs]), stddev=.05)\n",
    "    )\n",
    "    bias = tf.Variable(tf.zeros(num_outputs))\n",
    "    return tf.add(tf.matmul(x_tensor, weights), bias)\n",
    "\n",
    "\n",
    "\"\"\"\n",
    "DON'T MODIFY ANYTHING IN THIS CELL THAT IS BELOW THIS LINE\n",
    "\"\"\"\n",
    "tests.test_output(output)"
   ]
  },
  {
   "cell_type": "markdown",
   "metadata": {},
   "source": [
    "### Create Convolutional Model\n",
    "Implement the function `conv_net` to create a convolutional neural network model. The function takes in a batch of images, `x`, and outputs logits.  Use the layers you created above to create this model:\n",
    "\n",
    "* Apply 1, 2, or 3 Convolution and Max Pool layers\n",
    "* Apply a Flatten Layer\n",
    "* Apply 1, 2, or 3 Fully Connected Layers\n",
    "* Apply an Output Layer\n",
    "* Return the output\n",
    "* Apply [TensorFlow's Dropout](https://www.tensorflow.org/api_docs/python/tf/nn/dropout) to one or more layers in the model using `keep_prob`. "
   ]
  },
  {
   "cell_type": "code",
   "execution_count": 10,
   "metadata": {},
   "outputs": [
    {
     "name": "stdout",
     "output_type": "stream",
     "text": [
      "Neural Network Built!\n"
     ]
    }
   ],
   "source": [
    "def conv_net(x, keep_prob):\n",
    "    \"\"\"\n",
    "    Create a convolutional neural network model\n",
    "    : x: Placeholder tensor that holds image data.\n",
    "    : keep_prob: Placeholder tensor that hold dropout keep probability.\n",
    "    : return: Tensor that represents logits\n",
    "    \"\"\"\n",
    "    # Apply 3 convolution and max pool layers\n",
    "    # prepares parameters\n",
    "    conv_num_outputs = (64, 48, 32)\n",
    "    conv_ksizes = ((3,3),(3,3),(3,3))\n",
    "    conv_strides = ((1,1),(1,1),(1,1))\n",
    "    pool_ksizes = ((2,2),(2,2),(2,2))\n",
    "    pool_strides = ((2,2),(2,2),(2,2))    \n",
    "    # builds convolution and max pool layers\n",
    "    conv = None\n",
    "    for i in range(3):  \n",
    "        conv = conv2d_maxpool(\n",
    "            {0: x}.get(i, conv),\n",
    "            conv_num_outputs[i],\n",
    "            conv_ksizes[i],\n",
    "            conv_strides[i],\n",
    "            pool_ksizes[i],\n",
    "            pool_strides[i]\n",
    "        )\n",
    "    \n",
    "    # Apply a Flatten Layer\n",
    "    fc = flatten(conv)\n",
    "\n",
    "    # Apply 3 Fully Connected Layers\n",
    "    fc_num_outputs = (256, 128, 64)\n",
    "    for i in range(3):\n",
    "        fc = fully_conn(fc, fc_num_outputs[i])\n",
    "        fc = tf.nn.dropout(fc, keep_prob)\n",
    "    \n",
    "    # Apply an Output Layer\n",
    "    num_classes = 10\n",
    "    logits = output(fc, num_classes)\n",
    "    \n",
    "    return logits\n",
    "\n",
    "\n",
    "\"\"\"\n",
    "DON'T MODIFY ANYTHING IN THIS CELL THAT IS BELOW THIS LINE\n",
    "\"\"\"\n",
    "\n",
    "##############################\n",
    "## Build the Neural Network ##\n",
    "##############################\n",
    "\n",
    "# Remove previous weights, bias, inputs, etc..\n",
    "tf.reset_default_graph()\n",
    "\n",
    "# Inputs\n",
    "x = neural_net_image_input((32, 32, 3))\n",
    "y = neural_net_label_input(10)\n",
    "keep_prob = neural_net_keep_prob_input()\n",
    "\n",
    "# Model\n",
    "logits = conv_net(x, keep_prob)\n",
    "\n",
    "# Name logits Tensor, so that is can be loaded from disk after training\n",
    "logits = tf.identity(logits, name='logits')\n",
    "\n",
    "# Loss and Optimizer\n",
    "cost = tf.reduce_mean(tf.nn.softmax_cross_entropy_with_logits(logits=logits, labels=y))\n",
    "optimizer = tf.train.AdamOptimizer().minimize(cost)\n",
    "\n",
    "# Accuracy\n",
    "correct_pred = tf.equal(tf.argmax(logits, 1), tf.argmax(y, 1))\n",
    "accuracy = tf.reduce_mean(tf.cast(correct_pred, tf.float32), name='accuracy')\n",
    "\n",
    "tests.test_conv_net(conv_net)"
   ]
  },
  {
   "cell_type": "markdown",
   "metadata": {},
   "source": [
    "## Train the Neural Network\n",
    "### Single Optimization\n",
    "Implement the function `train_neural_network` to do a single optimization.  The optimization should use `optimizer` to optimize in `session` with a `feed_dict` of the following:\n",
    "* `x` for image input\n",
    "* `y` for labels\n",
    "* `keep_prob` for keep probability for dropout\n",
    "\n",
    "This function will be called for each batch, so `tf.global_variables_initializer()` has already been called.\n",
    "\n",
    "Note: Nothing needs to be returned. This function is only optimizing the neural network."
   ]
  },
  {
   "cell_type": "code",
   "execution_count": 11,
   "metadata": {},
   "outputs": [
    {
     "name": "stdout",
     "output_type": "stream",
     "text": [
      "Tests Passed\n"
     ]
    }
   ],
   "source": [
    "def train_neural_network(session, optimizer, keep_probability, feature_batch, label_batch):\n",
    "    \"\"\"\n",
    "    Optimize the session on a batch of images and labels\n",
    "    : session: Current TensorFlow session\n",
    "    : optimizer: TensorFlow optimizer function\n",
    "    : keep_probability: keep probability\n",
    "    : feature_batch: Batch of Numpy image data\n",
    "    : label_batch: Batch of Numpy label data\n",
    "    \"\"\"\n",
    "    session.run(\n",
    "        optimizer,\n",
    "        feed_dict={\n",
    "            x: feature_batch,\n",
    "            y: label_batch,\n",
    "            keep_prob: keep_probability\n",
    "        }\n",
    "    )\n",
    "\n",
    "\n",
    "\"\"\"\n",
    "DON'T MODIFY ANYTHING IN THIS CELL THAT IS BELOW THIS LINE\n",
    "\"\"\"\n",
    "tests.test_train_nn(train_neural_network)"
   ]
  },
  {
   "cell_type": "markdown",
   "metadata": {},
   "source": [
    "### Show Stats\n",
    "Implement the function `print_stats` to print loss and validation accuracy.  Use the global variables `valid_features` and `valid_labels` to calculate validation accuracy.  Use a keep probability of `1.0` to calculate the loss and validation accuracy."
   ]
  },
  {
   "cell_type": "code",
   "execution_count": 18,
   "metadata": {
    "collapsed": true
   },
   "outputs": [],
   "source": [
    "def print_stats(session, feature_batch, label_batch, cost, accuracy):\n",
    "    \"\"\"\n",
    "    Print information about loss and validation accuracy\n",
    "    : session: Current TensorFlow session\n",
    "    : feature_batch: Batch of Numpy image data\n",
    "    : label_batch: Batch of Numpy label data\n",
    "    : cost: TensorFlow cost function\n",
    "    : accuracy: TensorFlow accuracy function\n",
    "    \"\"\"\n",
    "    loss = session.run(\n",
    "        cost,\n",
    "        feed_dict={\n",
    "            x: feature_batch,\n",
    "            y: label_batch,\n",
    "            keep_prob: 1.0\n",
    "        }\n",
    "    )\n",
    "    valid_acc = session.run(\n",
    "        accuracy,\n",
    "        feed_dict={\n",
    "            x: valid_features,\n",
    "            y: valid_labels,\n",
    "            keep_prob: 1.0\n",
    "        }        \n",
    "    )\n",
    "    print('Loss={:.4f}, V.Acc={:.4f}'.format(\n",
    "        loss,\n",
    "        valid_acc\n",
    "    ))"
   ]
  },
  {
   "cell_type": "markdown",
   "metadata": {},
   "source": [
    "### Hyperparameters\n",
    "Tune the following parameters:\n",
    "* Set `epochs` to the number of iterations until the network stops learning or start overfitting\n",
    "* Set `batch_size` to the highest number that your machine has memory for.  Most people set them to common sizes of memory:\n",
    " * 64\n",
    " * 128\n",
    " * 256\n",
    " * ...\n",
    "* Set `keep_probability` to the probability of keeping a node using dropout"
   ]
  },
  {
   "cell_type": "code",
   "execution_count": 19,
   "metadata": {
    "collapsed": true
   },
   "outputs": [],
   "source": [
    "# Tune Parameters\n",
    "epochs = 30\n",
    "batch_size = 64\n",
    "keep_probability = .5"
   ]
  },
  {
   "cell_type": "markdown",
   "metadata": {},
   "source": [
    "### Train on a Single CIFAR-10 Batch\n",
    "Instead of training the neural network on all the CIFAR-10 batches of data, let's use a single batch. This should save time while you iterate on the model to get a better accuracy.  Once the final validation accuracy is 50% or greater, run the model on all the data in the next section."
   ]
  },
  {
   "cell_type": "code",
   "execution_count": 20,
   "metadata": {},
   "outputs": [
    {
     "name": "stdout",
     "output_type": "stream",
     "text": [
      "Checking the Training on a Single Batch...\n",
      "Epoch  1, CIFAR-10 Batch 1:  Loss=2.2484, V.Acc=0.1766\n",
      "Epoch  2, CIFAR-10 Batch 1:  Loss=2.0851, V.Acc=0.3052\n",
      "Epoch  3, CIFAR-10 Batch 1:  Loss=2.0048, V.Acc=0.3408\n",
      "Epoch  4, CIFAR-10 Batch 1:  Loss=1.8527, V.Acc=0.3620\n",
      "Epoch  5, CIFAR-10 Batch 1:  Loss=1.7748, V.Acc=0.3986\n",
      "Epoch  6, CIFAR-10 Batch 1:  Loss=1.6254, V.Acc=0.4322\n",
      "Epoch  7, CIFAR-10 Batch 1:  Loss=1.6172, V.Acc=0.4380\n",
      "Epoch  8, CIFAR-10 Batch 1:  Loss=1.5888, V.Acc=0.4690\n",
      "Epoch  9, CIFAR-10 Batch 1:  Loss=1.5092, V.Acc=0.4766\n",
      "Epoch 10, CIFAR-10 Batch 1:  Loss=1.3327, V.Acc=0.4998\n",
      "Epoch 11, CIFAR-10 Batch 1:  Loss=1.2404, V.Acc=0.5118\n",
      "Epoch 12, CIFAR-10 Batch 1:  Loss=1.1791, V.Acc=0.5104\n",
      "Epoch 13, CIFAR-10 Batch 1:  Loss=1.2217, V.Acc=0.5170\n",
      "Epoch 14, CIFAR-10 Batch 1:  Loss=1.1615, V.Acc=0.5248\n",
      "Epoch 15, CIFAR-10 Batch 1:  Loss=1.1148, V.Acc=0.5234\n",
      "Epoch 16, CIFAR-10 Batch 1:  Loss=1.1333, V.Acc=0.5448\n",
      "Epoch 17, CIFAR-10 Batch 1:  Loss=1.0051, V.Acc=0.5454\n",
      "Epoch 18, CIFAR-10 Batch 1:  Loss=0.9088, V.Acc=0.5370\n",
      "Epoch 19, CIFAR-10 Batch 1:  Loss=0.9161, V.Acc=0.5502\n",
      "Epoch 20, CIFAR-10 Batch 1:  Loss=0.8437, V.Acc=0.5594\n",
      "Epoch 21, CIFAR-10 Batch 1:  Loss=0.7872, V.Acc=0.5640\n",
      "Epoch 22, CIFAR-10 Batch 1:  Loss=0.7629, V.Acc=0.5614\n",
      "Epoch 23, CIFAR-10 Batch 1:  Loss=0.8201, V.Acc=0.5660\n",
      "Epoch 24, CIFAR-10 Batch 1:  Loss=0.7741, V.Acc=0.5768\n",
      "Epoch 25, CIFAR-10 Batch 1:  Loss=0.6834, V.Acc=0.5572\n",
      "Epoch 26, CIFAR-10 Batch 1:  Loss=0.6898, V.Acc=0.5764\n",
      "Epoch 27, CIFAR-10 Batch 1:  Loss=0.6775, V.Acc=0.5764\n",
      "Epoch 28, CIFAR-10 Batch 1:  Loss=0.6168, V.Acc=0.5630\n",
      "Epoch 29, CIFAR-10 Batch 1:  Loss=0.6281, V.Acc=0.5710\n",
      "Epoch 30, CIFAR-10 Batch 1:  Loss=0.5715, V.Acc=0.5778\n"
     ]
    }
   ],
   "source": [
    "\"\"\"\n",
    "DON'T MODIFY ANYTHING IN THIS CELL\n",
    "\"\"\"\n",
    "print('Checking the Training on a Single Batch...')\n",
    "with tf.Session() as sess:\n",
    "    # Initializing the variables\n",
    "    sess.run(tf.global_variables_initializer())\n",
    "    \n",
    "    # Training cycle\n",
    "    for epoch in range(epochs):\n",
    "        batch_i = 1\n",
    "        for batch_features, batch_labels in helper.load_preprocess_training_batch(batch_i, batch_size):\n",
    "            train_neural_network(sess, optimizer, keep_probability, batch_features, batch_labels)\n",
    "        print('Epoch {:>2}, CIFAR-10 Batch {}:  '.format(epoch + 1, batch_i), end='')\n",
    "        print_stats(sess, batch_features, batch_labels, cost, accuracy)"
   ]
  },
  {
   "cell_type": "markdown",
   "metadata": {},
   "source": [
    "### Fully Train the Model\n",
    "Now that you got a good accuracy with a single CIFAR-10 batch, try it with all five batches."
   ]
  },
  {
   "cell_type": "code",
   "execution_count": 21,
   "metadata": {},
   "outputs": [
    {
     "name": "stdout",
     "output_type": "stream",
     "text": [
      "Training...\n",
      "Epoch  1, CIFAR-10 Batch 1:  Loss=2.2316, V.Acc=0.2152\n",
      "Epoch  1, CIFAR-10 Batch 2:  Loss=2.0158, V.Acc=0.2842\n",
      "Epoch  1, CIFAR-10 Batch 3:  Loss=1.5930, V.Acc=0.3402\n",
      "Epoch  1, CIFAR-10 Batch 4:  Loss=1.6401, V.Acc=0.3972\n",
      "Epoch  1, CIFAR-10 Batch 5:  Loss=1.6282, V.Acc=0.4192\n",
      "Epoch  2, CIFAR-10 Batch 1:  Loss=1.7728, V.Acc=0.4286\n",
      "Epoch  2, CIFAR-10 Batch 2:  Loss=1.5949, V.Acc=0.4648\n",
      "Epoch  2, CIFAR-10 Batch 3:  Loss=1.1579, V.Acc=0.4866\n",
      "Epoch  2, CIFAR-10 Batch 4:  Loss=1.4345, V.Acc=0.5022\n",
      "Epoch  2, CIFAR-10 Batch 5:  Loss=1.4296, V.Acc=0.5216\n",
      "Epoch  3, CIFAR-10 Batch 1:  Loss=1.5184, V.Acc=0.5200\n",
      "Epoch  3, CIFAR-10 Batch 2:  Loss=1.2908, V.Acc=0.5398\n",
      "Epoch  3, CIFAR-10 Batch 3:  Loss=0.9545, V.Acc=0.5542\n",
      "Epoch  3, CIFAR-10 Batch 4:  Loss=1.2144, V.Acc=0.5548\n",
      "Epoch  3, CIFAR-10 Batch 5:  Loss=1.1650, V.Acc=0.5666\n",
      "Epoch  4, CIFAR-10 Batch 1:  Loss=1.3439, V.Acc=0.5642\n",
      "Epoch  4, CIFAR-10 Batch 2:  Loss=1.1567, V.Acc=0.5892\n",
      "Epoch  4, CIFAR-10 Batch 3:  Loss=0.8712, V.Acc=0.5846\n",
      "Epoch  4, CIFAR-10 Batch 4:  Loss=1.1281, V.Acc=0.5908\n",
      "Epoch  4, CIFAR-10 Batch 5:  Loss=1.0906, V.Acc=0.5880\n",
      "Epoch  5, CIFAR-10 Batch 1:  Loss=1.1110, V.Acc=0.6010\n",
      "Epoch  5, CIFAR-10 Batch 2:  Loss=1.0719, V.Acc=0.6002\n",
      "Epoch  5, CIFAR-10 Batch 3:  Loss=0.8399, V.Acc=0.6128\n",
      "Epoch  5, CIFAR-10 Batch 4:  Loss=1.0114, V.Acc=0.6100\n",
      "Epoch  5, CIFAR-10 Batch 5:  Loss=0.8883, V.Acc=0.6234\n",
      "Epoch  6, CIFAR-10 Batch 1:  Loss=1.0268, V.Acc=0.6276\n",
      "Epoch  6, CIFAR-10 Batch 2:  Loss=0.9899, V.Acc=0.6232\n",
      "Epoch  6, CIFAR-10 Batch 3:  Loss=0.7348, V.Acc=0.6382\n",
      "Epoch  6, CIFAR-10 Batch 4:  Loss=0.9512, V.Acc=0.6362\n",
      "Epoch  6, CIFAR-10 Batch 5:  Loss=0.8188, V.Acc=0.6382\n",
      "Epoch  7, CIFAR-10 Batch 1:  Loss=0.9505, V.Acc=0.6270\n",
      "Epoch  7, CIFAR-10 Batch 2:  Loss=0.9673, V.Acc=0.6394\n",
      "Epoch  7, CIFAR-10 Batch 3:  Loss=0.7283, V.Acc=0.6442\n",
      "Epoch  7, CIFAR-10 Batch 4:  Loss=0.8137, V.Acc=0.6450\n",
      "Epoch  7, CIFAR-10 Batch 5:  Loss=0.7886, V.Acc=0.6444\n",
      "Epoch  8, CIFAR-10 Batch 1:  Loss=0.8819, V.Acc=0.6562\n",
      "Epoch  8, CIFAR-10 Batch 2:  Loss=0.8865, V.Acc=0.6472\n",
      "Epoch  8, CIFAR-10 Batch 3:  Loss=0.6092, V.Acc=0.6580\n",
      "Epoch  8, CIFAR-10 Batch 4:  Loss=0.8161, V.Acc=0.6550\n",
      "Epoch  8, CIFAR-10 Batch 5:  Loss=0.7541, V.Acc=0.6514\n",
      "Epoch  9, CIFAR-10 Batch 1:  Loss=0.9120, V.Acc=0.6604\n",
      "Epoch  9, CIFAR-10 Batch 2:  Loss=0.8456, V.Acc=0.6530\n",
      "Epoch  9, CIFAR-10 Batch 3:  Loss=0.5988, V.Acc=0.6598\n",
      "Epoch  9, CIFAR-10 Batch 4:  Loss=0.8053, V.Acc=0.6662\n",
      "Epoch  9, CIFAR-10 Batch 5:  Loss=0.6857, V.Acc=0.6640\n",
      "Epoch 10, CIFAR-10 Batch 1:  Loss=0.8599, V.Acc=0.6582\n",
      "Epoch 10, CIFAR-10 Batch 2:  Loss=0.7360, V.Acc=0.6652\n",
      "Epoch 10, CIFAR-10 Batch 3:  Loss=0.5523, V.Acc=0.6776\n",
      "Epoch 10, CIFAR-10 Batch 4:  Loss=0.7244, V.Acc=0.6750\n",
      "Epoch 10, CIFAR-10 Batch 5:  Loss=0.6344, V.Acc=0.6766\n",
      "Epoch 11, CIFAR-10 Batch 1:  Loss=0.7524, V.Acc=0.6626\n",
      "Epoch 11, CIFAR-10 Batch 2:  Loss=0.7355, V.Acc=0.6686\n",
      "Epoch 11, CIFAR-10 Batch 3:  Loss=0.6280, V.Acc=0.6608\n",
      "Epoch 11, CIFAR-10 Batch 4:  Loss=0.6793, V.Acc=0.6846\n",
      "Epoch 11, CIFAR-10 Batch 5:  Loss=0.7188, V.Acc=0.6618\n",
      "Epoch 12, CIFAR-10 Batch 1:  Loss=0.7886, V.Acc=0.6692\n",
      "Epoch 12, CIFAR-10 Batch 2:  Loss=0.7954, V.Acc=0.6766\n",
      "Epoch 12, CIFAR-10 Batch 3:  Loss=0.5386, V.Acc=0.6884\n",
      "Epoch 12, CIFAR-10 Batch 4:  Loss=0.7062, V.Acc=0.6794\n",
      "Epoch 12, CIFAR-10 Batch 5:  Loss=0.5444, V.Acc=0.6778\n",
      "Epoch 13, CIFAR-10 Batch 1:  Loss=0.6432, V.Acc=0.6728\n",
      "Epoch 13, CIFAR-10 Batch 2:  Loss=0.7123, V.Acc=0.6750\n",
      "Epoch 13, CIFAR-10 Batch 3:  Loss=0.4390, V.Acc=0.6932\n",
      "Epoch 13, CIFAR-10 Batch 4:  Loss=0.6217, V.Acc=0.6902\n",
      "Epoch 13, CIFAR-10 Batch 5:  Loss=0.5185, V.Acc=0.6854\n",
      "Epoch 14, CIFAR-10 Batch 1:  Loss=0.8189, V.Acc=0.6630\n",
      "Epoch 14, CIFAR-10 Batch 2:  Loss=0.7335, V.Acc=0.6910\n",
      "Epoch 14, CIFAR-10 Batch 3:  Loss=0.4898, V.Acc=0.6862\n",
      "Epoch 14, CIFAR-10 Batch 4:  Loss=0.5732, V.Acc=0.6872\n",
      "Epoch 14, CIFAR-10 Batch 5:  Loss=0.6240, V.Acc=0.6682\n",
      "Epoch 15, CIFAR-10 Batch 1:  Loss=0.6842, V.Acc=0.6676\n",
      "Epoch 15, CIFAR-10 Batch 2:  Loss=0.6590, V.Acc=0.7000\n",
      "Epoch 15, CIFAR-10 Batch 3:  Loss=0.4576, V.Acc=0.6886\n",
      "Epoch 15, CIFAR-10 Batch 4:  Loss=0.5875, V.Acc=0.6950\n",
      "Epoch 15, CIFAR-10 Batch 5:  Loss=0.4957, V.Acc=0.6898\n",
      "Epoch 16, CIFAR-10 Batch 1:  Loss=0.6309, V.Acc=0.6904\n",
      "Epoch 16, CIFAR-10 Batch 2:  Loss=0.6178, V.Acc=0.6840\n",
      "Epoch 16, CIFAR-10 Batch 3:  Loss=0.4748, V.Acc=0.7004\n",
      "Epoch 16, CIFAR-10 Batch 4:  Loss=0.6351, V.Acc=0.6866\n",
      "Epoch 16, CIFAR-10 Batch 5:  Loss=0.4884, V.Acc=0.6932\n",
      "Epoch 17, CIFAR-10 Batch 1:  Loss=0.5298, V.Acc=0.6862\n",
      "Epoch 17, CIFAR-10 Batch 2:  Loss=0.5683, V.Acc=0.6946\n",
      "Epoch 17, CIFAR-10 Batch 3:  Loss=0.4012, V.Acc=0.7044\n",
      "Epoch 17, CIFAR-10 Batch 4:  Loss=0.6213, V.Acc=0.6914\n",
      "Epoch 17, CIFAR-10 Batch 5:  Loss=0.4468, V.Acc=0.6894\n",
      "Epoch 18, CIFAR-10 Batch 1:  Loss=0.5727, V.Acc=0.6960\n",
      "Epoch 18, CIFAR-10 Batch 2:  Loss=0.6077, V.Acc=0.6902\n",
      "Epoch 18, CIFAR-10 Batch 3:  Loss=0.4542, V.Acc=0.7030\n",
      "Epoch 18, CIFAR-10 Batch 4:  Loss=0.4694, V.Acc=0.6942\n",
      "Epoch 18, CIFAR-10 Batch 5:  Loss=0.5242, V.Acc=0.6936\n",
      "Epoch 19, CIFAR-10 Batch 1:  Loss=0.6120, V.Acc=0.7008\n",
      "Epoch 19, CIFAR-10 Batch 2:  Loss=0.5262, V.Acc=0.6916\n",
      "Epoch 19, CIFAR-10 Batch 3:  Loss=0.4293, V.Acc=0.7002\n",
      "Epoch 19, CIFAR-10 Batch 4:  Loss=0.4332, V.Acc=0.7104\n",
      "Epoch 19, CIFAR-10 Batch 5:  Loss=0.4861, V.Acc=0.6842\n",
      "Epoch 20, CIFAR-10 Batch 1:  Loss=0.5397, V.Acc=0.6954\n",
      "Epoch 20, CIFAR-10 Batch 2:  Loss=0.5395, V.Acc=0.7062\n",
      "Epoch 20, CIFAR-10 Batch 3:  Loss=0.4241, V.Acc=0.7088\n",
      "Epoch 20, CIFAR-10 Batch 4:  Loss=0.5181, V.Acc=0.7054\n",
      "Epoch 20, CIFAR-10 Batch 5:  Loss=0.4941, V.Acc=0.7012\n",
      "Epoch 21, CIFAR-10 Batch 1:  Loss=0.5284, V.Acc=0.6948\n",
      "Epoch 21, CIFAR-10 Batch 2:  Loss=0.5095, V.Acc=0.6850\n",
      "Epoch 21, CIFAR-10 Batch 3:  Loss=0.4497, V.Acc=0.7024\n",
      "Epoch 21, CIFAR-10 Batch 4:  Loss=0.4457, V.Acc=0.6942\n",
      "Epoch 21, CIFAR-10 Batch 5:  Loss=0.4689, V.Acc=0.6964\n",
      "Epoch 22, CIFAR-10 Batch 1:  Loss=0.5660, V.Acc=0.6960\n",
      "Epoch 22, CIFAR-10 Batch 2:  Loss=0.5978, V.Acc=0.7004\n",
      "Epoch 22, CIFAR-10 Batch 3:  Loss=0.4642, V.Acc=0.7140\n",
      "Epoch 22, CIFAR-10 Batch 4:  Loss=0.4903, V.Acc=0.6984\n",
      "Epoch 22, CIFAR-10 Batch 5:  Loss=0.4645, V.Acc=0.6992\n",
      "Epoch 23, CIFAR-10 Batch 1:  Loss=0.5481, V.Acc=0.6910\n",
      "Epoch 23, CIFAR-10 Batch 2:  Loss=0.4683, V.Acc=0.6966\n",
      "Epoch 23, CIFAR-10 Batch 3:  Loss=0.3163, V.Acc=0.7126\n",
      "Epoch 23, CIFAR-10 Batch 4:  Loss=0.3909, V.Acc=0.7032\n",
      "Epoch 23, CIFAR-10 Batch 5:  Loss=0.4116, V.Acc=0.6954\n",
      "Epoch 24, CIFAR-10 Batch 1:  Loss=0.4957, V.Acc=0.6874\n",
      "Epoch 24, CIFAR-10 Batch 2:  Loss=0.3892, V.Acc=0.7060\n",
      "Epoch 24, CIFAR-10 Batch 3:  Loss=0.4200, V.Acc=0.6990\n",
      "Epoch 24, CIFAR-10 Batch 4:  Loss=0.4096, V.Acc=0.7112\n",
      "Epoch 24, CIFAR-10 Batch 5:  Loss=0.4060, V.Acc=0.6954\n",
      "Epoch 25, CIFAR-10 Batch 1:  Loss=0.5317, V.Acc=0.6838\n",
      "Epoch 25, CIFAR-10 Batch 2:  Loss=0.4163, V.Acc=0.7176\n",
      "Epoch 25, CIFAR-10 Batch 3:  Loss=0.3932, V.Acc=0.7160\n",
      "Epoch 25, CIFAR-10 Batch 4:  Loss=0.5135, V.Acc=0.7038\n",
      "Epoch 25, CIFAR-10 Batch 5:  Loss=0.4333, V.Acc=0.7004\n",
      "Epoch 26, CIFAR-10 Batch 1:  Loss=0.4208, V.Acc=0.7084\n",
      "Epoch 26, CIFAR-10 Batch 2:  Loss=0.4606, V.Acc=0.7028\n",
      "Epoch 26, CIFAR-10 Batch 3:  Loss=0.3397, V.Acc=0.7166\n",
      "Epoch 26, CIFAR-10 Batch 4:  Loss=0.3896, V.Acc=0.7104\n",
      "Epoch 26, CIFAR-10 Batch 5:  Loss=0.4193, V.Acc=0.7070\n",
      "Epoch 27, CIFAR-10 Batch 1:  Loss=0.4230, V.Acc=0.6986\n",
      "Epoch 27, CIFAR-10 Batch 2:  Loss=0.4741, V.Acc=0.7090\n",
      "Epoch 27, CIFAR-10 Batch 3:  Loss=0.3511, V.Acc=0.7210\n",
      "Epoch 27, CIFAR-10 Batch 4:  Loss=0.3822, V.Acc=0.7214\n",
      "Epoch 27, CIFAR-10 Batch 5:  Loss=0.2744, V.Acc=0.7134\n",
      "Epoch 28, CIFAR-10 Batch 1:  Loss=0.4287, V.Acc=0.7166\n",
      "Epoch 28, CIFAR-10 Batch 2:  Loss=0.4510, V.Acc=0.7112\n",
      "Epoch 28, CIFAR-10 Batch 3:  Loss=0.3551, V.Acc=0.7088\n",
      "Epoch 28, CIFAR-10 Batch 4:  Loss=0.3540, V.Acc=0.7092\n",
      "Epoch 28, CIFAR-10 Batch 5:  Loss=0.3821, V.Acc=0.7128\n",
      "Epoch 29, CIFAR-10 Batch 1:  Loss=0.5118, V.Acc=0.6926\n",
      "Epoch 29, CIFAR-10 Batch 2:  Loss=0.3918, V.Acc=0.7202\n",
      "Epoch 29, CIFAR-10 Batch 3:  Loss=0.3714, V.Acc=0.7196\n",
      "Epoch 29, CIFAR-10 Batch 4:  Loss=0.3272, V.Acc=0.7198\n",
      "Epoch 29, CIFAR-10 Batch 5:  Loss=0.3012, V.Acc=0.7138\n",
      "Epoch 30, CIFAR-10 Batch 1:  Loss=0.5182, V.Acc=0.7066\n",
      "Epoch 30, CIFAR-10 Batch 2:  Loss=0.3703, V.Acc=0.7142\n",
      "Epoch 30, CIFAR-10 Batch 3:  Loss=0.3315, V.Acc=0.7192\n",
      "Epoch 30, CIFAR-10 Batch 4:  Loss=0.3521, V.Acc=0.7210\n"
     ]
    },
    {
     "name": "stdout",
     "output_type": "stream",
     "text": [
      "Epoch 30, CIFAR-10 Batch 5:  Loss=0.2538, V.Acc=0.7122\n"
     ]
    }
   ],
   "source": [
    "\"\"\"\n",
    "DON'T MODIFY ANYTHING IN THIS CELL\n",
    "\"\"\"\n",
    "save_model_path = './image_classification'\n",
    "\n",
    "print('Training...')\n",
    "with tf.Session() as sess:\n",
    "    # Initializing the variables\n",
    "    sess.run(tf.global_variables_initializer())\n",
    "    \n",
    "    # Training cycle\n",
    "    for epoch in range(epochs):\n",
    "        # Loop over all batches\n",
    "        n_batches = 5\n",
    "        for batch_i in range(1, n_batches + 1):\n",
    "            for batch_features, batch_labels in helper.load_preprocess_training_batch(batch_i, batch_size):\n",
    "                train_neural_network(sess, optimizer, keep_probability, batch_features, batch_labels)\n",
    "            print('Epoch {:>2}, CIFAR-10 Batch {}:  '.format(epoch + 1, batch_i), end='')\n",
    "            print_stats(sess, batch_features, batch_labels, cost, accuracy)\n",
    "            \n",
    "    # Save Model\n",
    "    saver = tf.train.Saver()\n",
    "    save_path = saver.save(sess, save_model_path)"
   ]
  },
  {
   "cell_type": "markdown",
   "metadata": {},
   "source": [
    "# Checkpoint\n",
    "The model has been saved to disk.\n",
    "## Test Model\n",
    "Test your model against the test dataset.  This will be your final accuracy. You should have an accuracy greater than 50%. If you don't, keep tweaking the model architecture and parameters."
   ]
  },
  {
   "cell_type": "code",
   "execution_count": 22,
   "metadata": {},
   "outputs": [
    {
     "name": "stdout",
     "output_type": "stream",
     "text": [
      "INFO:tensorflow:Restoring parameters from ./image_classification\n",
      "Testing Accuracy: 0.7093949044585988\n",
      "\n"
     ]
    },
    {
     "data": {
      "image/png": "[encoded data removed]",
      "text/plain": [
       "<matplotlib.figure.Figure at 0xce86e10>"
      ]
     },
     "metadata": {
      "image/png": {
       "height": 319,
       "width": 355
      }
     },
     "output_type": "display_data"
    }
   ],
   "source": [
    "\"\"\"\n",
    "DON'T MODIFY ANYTHING IN THIS CELL\n",
    "\"\"\"\n",
    "%matplotlib inline\n",
    "%config InlineBackend.figure_format = 'retina'\n",
    "\n",
    "import tensorflow as tf\n",
    "import pickle\n",
    "import helper\n",
    "import random\n",
    "\n",
    "# Set batch size if not already set\n",
    "try:\n",
    "    if batch_size:\n",
    "        pass\n",
    "except NameError:\n",
    "    batch_size = 64\n",
    "\n",
    "save_model_path = './image_classification'\n",
    "n_samples = 4\n",
    "top_n_predictions = 3\n",
    "\n",
    "def test_model():\n",
    "    \"\"\"\n",
    "    Test the saved model against the test dataset\n",
    "    \"\"\"\n",
    "\n",
    "    test_features, test_labels = pickle.load(open('preprocess_training.p', mode='rb'))\n",
    "    loaded_graph = tf.Graph()\n",
    "\n",
    "    with tf.Session(graph=loaded_graph) as sess:\n",
    "        # Load model\n",
    "        loader = tf.train.import_meta_graph(save_model_path + '.meta')\n",
    "        loader.restore(sess, save_model_path)\n",
    "\n",
    "        # Get Tensors from loaded model\n",
    "        loaded_x = loaded_graph.get_tensor_by_name('x:0')\n",
    "        loaded_y = loaded_graph.get_tensor_by_name('y:0')\n",
    "        loaded_keep_prob = loaded_graph.get_tensor_by_name('keep_prob:0')\n",
    "        loaded_logits = loaded_graph.get_tensor_by_name('logits:0')\n",
    "        loaded_acc = loaded_graph.get_tensor_by_name('accuracy:0')\n",
    "        \n",
    "        # Get accuracy in batches for memory limitations\n",
    "        test_batch_acc_total = 0\n",
    "        test_batch_count = 0\n",
    "        \n",
    "        for train_feature_batch, train_label_batch in helper.batch_features_labels(test_features, test_labels, batch_size):\n",
    "            test_batch_acc_total += sess.run(\n",
    "                loaded_acc,\n",
    "                feed_dict={loaded_x: train_feature_batch, loaded_y: train_label_batch, loaded_keep_prob: 1.0})\n",
    "            test_batch_count += 1\n",
    "\n",
    "        print('Testing Accuracy: {}\\n'.format(test_batch_acc_total/test_batch_count))\n",
    "\n",
    "        # Print Random Samples\n",
    "        random_test_features, random_test_labels = tuple(zip(*random.sample(list(zip(test_features, test_labels)), n_samples)))\n",
    "        random_test_predictions = sess.run(\n",
    "            tf.nn.top_k(tf.nn.softmax(loaded_logits), top_n_predictions),\n",
    "            feed_dict={loaded_x: random_test_features, loaded_y: random_test_labels, loaded_keep_prob: 1.0})\n",
    "        helper.display_image_predictions(random_test_features, random_test_labels, random_test_predictions)\n",
    "\n",
    "\n",
    "test_model()"
   ]
  },
  {
   "cell_type": "code",
   "execution_count": 24,
   "metadata": {},
   "outputs": [
    {
     "name": "stdout",
     "output_type": "stream",
     "text": [
      "INFO:tensorflow:Restoring parameters from ./image_classification\n",
      "Testing Accuracy: 0.7093949044585988\n",
      "\n"
     ]
    },
    {
     "data": {
      "image/png": "[encoded data removed]",
      "text/plain": [
       "<matplotlib.figure.Figure at 0xbed2080>"
      ]
     },
     "metadata": {
      "image/png": {
       "height": 319,
       "width": 355
      }
     },
     "output_type": "display_data"
    }
   ],
   "source": [
    "# show more samples\n",
    "test_model()"
   ]
  },
  {
   "cell_type": "markdown",
   "metadata": {},
   "source": [
    "## Why 50-80% Accuracy?\n",
    "You might be wondering why you can't get an accuracy any higher. First things first, 50% isn't bad for a simple CNN.  Pure guessing would get you 10% accuracy. That's because there are many more techniques that can be applied to your model and we recommend that once you are done with this project, you explore!\n"
   ]
  },
  {
   "cell_type": "markdown",
   "metadata": {},
   "source": [
    "## References:\n",
    "\n",
    "* [TensorFlow - Python API](https://www.tensorflow.org/api_docs/python/)\n",
    "* [TensorFlow - Deep Convolutional Neural Network](https://www.tensorflow.org/tutorials/deep_cnn)\n",
    "* [TensorFlow - A Guide to TF Layers](https://www.tensorflow.org/tutorials/layers)\n",
    "* [aymericdamien - TensorFlow Examples on Github](https://github.com/aymericdamien/TensorFlow-Examples)"
   ]
  },
  {
   "cell_type": "markdown",
   "metadata": {},
   "source": [
    "## Reproduction Environment"
   ]
  },
  {
   "cell_type": "code",
   "execution_count": 30,
   "metadata": {},
   "outputs": [
    {
     "name": "stdout",
     "output_type": "stream",
     "text": [
      "Jupyter Env:\n",
      "{'commit_hash': '51ce9d73b',\n",
      " 'commit_source': 'installation',\n",
      " 'default_encoding': 'cp936',\n",
      " 'ipython_path': 'C:\\\\ProgramData\\\\Anaconda3\\\\envs\\\\tensorflow\\\\lib\\\\site-packages\\\\IPython',\n",
      " 'ipython_version': '6.0.0',\n",
      " 'os_name': 'nt',\n",
      " 'platform': 'Windows-7-6.1.7601-SP1',\n",
      " 'sys_executable': 'C:\\\\ProgramData\\\\Anaconda3\\\\envs\\\\tensorflow\\\\python.exe',\n",
      " 'sys_platform': 'win32',\n",
      " 'sys_version': '3.5.3 |Continuum Analytics, Inc.| (default, Feb 22 2017, '\n",
      "                '21:28:42) [MSC v.1900 64 bit (AMD64)]'}\n"
     ]
    }
   ],
   "source": [
    "import IPython\n",
    "print('Jupyter Env:\\n{}'.format(IPython.sys_info()))"
   ]
  },
  {
   "cell_type": "code",
   "execution_count": 31,
   "metadata": {},
   "outputs": [
    {
     "name": "stdout",
     "output_type": "stream",
     "text": [
      "alabaster==0.7.9\n",
      "anaconda-client==1.6.0\n",
      "anaconda-navigator==1.5\n",
      "anaconda-project==0.4.1\n",
      "astroid==1.4.9\n",
      "astropy==1.3\n",
      "Babel==2.3.4\n",
      "backports.shutil-get-terminal-size==1.0.0\n",
      "beautifulsoup4==4.5.3\n",
      "bitarray==0.8.1\n",
      "blaze==0.10.1\n",
      "bokeh==0.12.4\n",
      "boto==2.45.0\n",
      "Bottleneck==1.2.0\n",
      "cffi==1.9.1\n",
      "chardet==2.3.0\n",
      "chest==0.2.3\n",
      "click==6.7\n",
      "cloudpickle==0.2.2\n",
      "clyent==1.2.2\n",
      "colorama==0.3.7\n",
      "comtypes==1.1.2\n",
      "conda==4.3.14\n",
      "configobj==5.0.6\n",
      "contextlib2==0.5.4\n",
      "cryptography==1.7.1\n",
      "cycler==0.10.0\n",
      "Cython==0.25.2\n",
      "cytoolz==0.8.2\n",
      "dask==0.13.0\n",
      "datashape==0.5.4\n",
      "decorator==4.0.11\n",
      "dill==0.2.5\n",
      "docutils==0.13.1\n",
      "et-xmlfile==1.0.1\n",
      "fastcache==1.0.2\n",
      "Flask==0.12\n",
      "Flask-Cors==3.0.2\n",
      "get==0.0.0\n",
      "gevent==1.2.1\n",
      "greenlet==0.4.11\n",
      "h5py==2.6.0\n",
      "HeapDict==1.0.0\n",
      "idna==2.2\n",
      "imagesize==0.7.1\n",
      "ipykernel==4.5.2\n",
      "ipython==5.1.0\n",
      "ipython-genutils==0.1.0\n",
      "ipywidgets==5.2.2\n",
      "isort==4.2.5\n",
      "itsdangerous==0.24\n",
      "jdcal==1.3\n",
      "jedi==0.9.0\n",
      "Jinja2==2.9.4\n",
      "jsonschema==2.5.1\n",
      "jupyter==1.0.0\n",
      "jupyter-client==4.4.0\n",
      "jupyter-console==5.0.0\n",
      "jupyter-core==4.2.1\n",
      "lazy-object-proxy==1.2.2\n",
      "llvmlite==0.15.0\n",
      "locket==0.2.0\n",
      "lxml==3.7.2\n",
      "MarkupSafe==0.23\n",
      "matplotlib==2.0.0\n",
      "menuinst==1.4.4\n",
      "mistune==0.7.3\n",
      "mpmath==0.19\n",
      "multipledispatch==0.4.9\n",
      "nbconvert==4.2.0\n",
      "nbformat==4.2.0\n",
      "networkx==1.11\n",
      "nltk==3.2.2\n",
      "nose==1.3.7\n",
      "notebook==4.3.1\n",
      "numba==0.30.1\n",
      "numexpr==2.6.1\n",
      "numpy==1.11.3\n",
      "numpydoc==0.6.0\n",
      "odo==0.5.0\n",
      "olefile==0.44\n",
      "openpyxl==2.4.1\n",
      "pandas==0.19.2\n",
      "partd==0.3.7\n",
      "path.py==0.0.0\n",
      "pathlib2==2.2.0\n",
      "patsy==0.4.1\n",
      "pep8==1.7.0\n",
      "pickleshare==0.7.4\n",
      "Pillow==4.0.0\n",
      "ply==3.9\n",
      "post==0.0.0\n",
      "prompt-toolkit==1.0.9\n",
      "psutil==5.0.1\n",
      "public==0.0.0\n",
      "py==1.4.32\n",
      "pyasn1==0.1.9\n",
      "pycosat==0.6.1\n",
      "pycparser==2.17\n",
      "pycrypto==2.6.1\n",
      "pycurl==7.43.0\n",
      "pyflakes==1.5.0\n",
      "Pygments==2.1.3\n",
      "pylint==1.6.4\n",
      "pyOpenSSL==16.2.0\n",
      "pyparsing==2.1.4\n",
      "pytest==3.0.5\n",
      "python-dateutil==2.6.0\n",
      "pytz==2016.10\n",
      "pywin32==220\n",
      "PyYAML==3.12\n",
      "pyzmq==16.0.2\n",
      "QtAwesome==0.4.3\n",
      "qtconsole==4.2.1\n",
      "QtPy==1.2.1\n",
      "query-string==0.0.0\n",
      "request==0.0.0\n",
      "requests==2.12.4\n",
      "rope-py3k==0.9.4.post1\n",
      "scikit-image==0.12.3\n",
      "scikit-learn==0.18.1\n",
      "scipy==0.18.1\n",
      "seaborn==0.7.1\n",
      "setupfiles==0.0.0\n",
      "simplegeneric==0.8.1\n",
      "singledispatch==3.4.0.3\n",
      "six==1.10.0\n",
      "snowballstemmer==1.2.1\n",
      "sockjs-tornado==1.0.3\n",
      "sphinx==1.5.1\n",
      "spyder==3.1.2\n",
      "SQLAlchemy==1.1.5\n",
      "statsmodels==0.6.1\n",
      "sympy==1.0\n",
      "tables==3.2.2\n",
      "toolz==0.8.2\n",
      "tornado==4.4.2\n",
      "tqdm==4.11.2\n",
      "traitlets==4.3.1\n",
      "unicodecsv==0.14.1\n",
      "wcwidth==0.1.7\n",
      "Werkzeug==0.11.15\n",
      "widgetsnbextension==1.2.6\n",
      "win-unicode-console==0.5\n",
      "wrapt==1.10.8\n",
      "xlrd==1.0.0\n",
      "XlsxWriter==0.9.6\n",
      "xlwings==0.10.2\n",
      "xlwt==1.2.0\n"
     ]
    }
   ],
   "source": [
    "!pip freeze"
   ]
  }
 ],
 "metadata": {
  "kernelspec": {
   "display_name": "Python 3",
   "language": "python",
   "name": "python3"
  },
  "language_info": {
   "codemirror_mode": {
    "name": "ipython",
    "version": 3
   },
   "file_extension": ".py",
   "mimetype": "text/x-python",
   "name": "python",
   "nbconvert_exporter": "python",
   "pygments_lexer": "ipython3",
   "version": "3.5.3"
  }
 },
 "nbformat": 4,
 "nbformat_minor": 1
}
